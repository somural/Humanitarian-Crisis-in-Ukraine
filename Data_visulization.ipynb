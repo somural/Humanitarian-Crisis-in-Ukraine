{
 "cells": [
  {
   "cell_type": "code",
   "execution_count": 12,
   "metadata": {},
   "outputs": [],
   "source": [
    "import altair as alt\n",
    "import altair_viewer\n",
    "import json\n",
    "import pandas as pd"
   ]
  },
  {
   "cell_type": "code",
   "execution_count": 13,
   "metadata": {},
   "outputs": [],
   "source": [
    "with open('UA_FULL_Ukraine.geojson') as f:\n",
    "    data = json.loads(f.read())\n",
    "\n",
    "geo = pd.DataFrame(data['features'])"
   ]
  },
  {
   "cell_type": "code",
   "execution_count": 14,
   "metadata": {},
   "outputs": [
    {
     "data": {
      "text/html": [
       "<div>\n",
       "<style scoped>\n",
       "    .dataframe tbody tr th:only-of-type {\n",
       "        vertical-align: middle;\n",
       "    }\n",
       "\n",
       "    .dataframe tbody tr th {\n",
       "        vertical-align: top;\n",
       "    }\n",
       "\n",
       "    .dataframe thead th {\n",
       "        text-align: right;\n",
       "    }\n",
       "</style>\n",
       "<table border=\"1\" class=\"dataframe\">\n",
       "  <thead>\n",
       "    <tr style=\"text-align: right;\">\n",
       "      <th></th>\n",
       "      <th>type</th>\n",
       "      <th>geometry</th>\n",
       "      <th>properties</th>\n",
       "    </tr>\n",
       "  </thead>\n",
       "  <tbody>\n",
       "    <tr>\n",
       "      <th>0</th>\n",
       "      <td>Feature</td>\n",
       "      <td>{'type': 'Polygon', 'coordinates': [[[32.06948...</td>\n",
       "      <td>{'@id': 'relation/91278', 'admin_level': '4', ...</td>\n",
       "    </tr>\n",
       "    <tr>\n",
       "      <th>1</th>\n",
       "      <td>Feature</td>\n",
       "      <td>{'type': 'Polygon', 'coordinates': [[[33.29431...</td>\n",
       "      <td>{'admin_level': '4', 'boundary': 'administrati...</td>\n",
       "    </tr>\n",
       "    <tr>\n",
       "      <th>2</th>\n",
       "      <td>Feature</td>\n",
       "      <td>{'type': 'Polygon', 'coordinates': [[[25.74232...</td>\n",
       "      <td>{'admin_level': '4', 'boundary': 'administrati...</td>\n",
       "    </tr>\n",
       "    <tr>\n",
       "      <th>3</th>\n",
       "      <td>Feature</td>\n",
       "      <td>{'type': 'Polygon', 'coordinates': [[[34.97755...</td>\n",
       "      <td>{'admin_level': '4', 'boundary': 'administrati...</td>\n",
       "    </tr>\n",
       "    <tr>\n",
       "      <th>4</th>\n",
       "      <td>Feature</td>\n",
       "      <td>{'type': 'Polygon', 'coordinates': [[[34.98391...</td>\n",
       "      <td>{'admin_level': '4', 'boundary': 'administrati...</td>\n",
       "    </tr>\n",
       "  </tbody>\n",
       "</table>\n",
       "</div>"
      ],
      "text/plain": [
       "      type                                           geometry  \\\n",
       "0  Feature  {'type': 'Polygon', 'coordinates': [[[32.06948...   \n",
       "1  Feature  {'type': 'Polygon', 'coordinates': [[[33.29431...   \n",
       "2  Feature  {'type': 'Polygon', 'coordinates': [[[25.74232...   \n",
       "3  Feature  {'type': 'Polygon', 'coordinates': [[[34.97755...   \n",
       "4  Feature  {'type': 'Polygon', 'coordinates': [[[34.98391...   \n",
       "\n",
       "                                          properties  \n",
       "0  {'@id': 'relation/91278', 'admin_level': '4', ...  \n",
       "1  {'admin_level': '4', 'boundary': 'administrati...  \n",
       "2  {'admin_level': '4', 'boundary': 'administrati...  \n",
       "3  {'admin_level': '4', 'boundary': 'administrati...  \n",
       "4  {'admin_level': '4', 'boundary': 'administrati...  "
      ]
     },
     "execution_count": 14,
     "metadata": {},
     "output_type": "execute_result"
    }
   ],
   "source": [
    "geo.head()"
   ]
  },
  {
   "cell_type": "code",
   "execution_count": 15,
   "metadata": {},
   "outputs": [
    {
     "data": {
      "text/html": [
       "Displaying chart at <a href='http://localhost:50700/' target='_blank'>http://localhost:50700/</a>"
      ],
      "text/plain": [
       "Displaying chart at http://localhost:50700/"
      ]
     },
     "execution_count": 15,
     "metadata": {},
     "output_type": "execute_result"
    }
   ],
   "source": [
    "# Ukraine regions background\n",
    "background = alt.Chart(geo).mark_geoshape(fill='lightgray', stroke='white')\n",
    "\n",
    "# event positions on background\n",
    "ukr_df = pd.read_csv(\"2022-02-01-2023-02-01-Europe-Ukraine.csv\", low_memory = False)\n",
    "ukr_df = ukr_df.groupby(['admin2', 'latitude', 'longitude']).size().reset_index(name='lat_count')\n",
    "\n",
    "points = alt.Chart(ukr_df).transform_aggregate(\n",
    "    latitude='mean(latitude)',\n",
    "    longitude='mean(longitude)',\n",
    "    count='sum(lat_count)',\n",
    "    groupby=['admin2']\n",
    ").mark_circle().encode(\n",
    "    longitude='longitude:Q',\n",
    "    latitude='latitude:Q',\n",
    "    size=alt.Size('count:Q', title='Number of events'),\n",
    "    #color=alt.value('steelblue'),\n",
    "    color=alt.Color('count:Q', scale=alt.Scale(scheme='inferno')),\n",
    "    tooltip=[alt.Tooltip('admin2:N', title='Region'), \n",
    "             alt.Tooltip('count:Q', title='Events')]\n",
    ").properties(\n",
    "    #title='Events by region',\n",
    "    width=800,\n",
    "    height=500\n",
    ")\n",
    "\n",
    "altair_viewer.display(background + points)"
   ]
  },
  {
   "cell_type": "code",
   "execution_count": 16,
   "metadata": {},
   "outputs": [
    {
     "data": {
      "text/html": [
       "Displaying chart at <a href='http://localhost:50700/' target='_blank'>http://localhost:50700/</a>"
      ],
      "text/plain": [
       "Displaying chart at http://localhost:50700/"
      ]
     },
     "execution_count": 16,
     "metadata": {},
     "output_type": "execute_result"
    }
   ],
   "source": [
    "ukr_df = pd.read_csv(\"2022-02-01-2023-02-01-Europe-Ukraine.csv\", low_memory = False)\n",
    "ukr_df = ukr_df[(ukr_df['event_type'] == 'Battles') | (ukr_df['event_type'] =='Explosions/Remote violence')]\n",
    "ukr_df['date'] = pd.to_datetime(ukr_df['event_date'])\n",
    "ukr_df = ukr_df.groupby(['date', 'event_type']).size().reset_index(name='event_count')\n",
    "\n",
    "event_chart = alt.Chart(ukr_df).mark_line().encode(\n",
    "    alt.X('date:T', title='Date'),\n",
    "    alt.Y('event_count:Q', title='Event count'),\n",
    "    color=alt.Color('event_type:N', title='Event type'),\n",
    "    ).properties(\n",
    "    #title='Events by region',\n",
    "    width=800,\n",
    "    height=400\n",
    ")\n",
    "#event_chart\n",
    "altair_viewer.display(event_chart)"
   ]
  }
 ],
 "metadata": {
  "kernelspec": {
   "display_name": "Python 3",
   "language": "python",
   "name": "python3"
  },
  "language_info": {
   "codemirror_mode": {
    "name": "ipython",
    "version": 3
   },
   "file_extension": ".py",
   "mimetype": "text/x-python",
   "name": "python",
   "nbconvert_exporter": "python",
   "pygments_lexer": "ipython3",
   "version": "3.10.6"
  },
  "orig_nbformat": 4,
  "vscode": {
   "interpreter": {
    "hash": "aee8b7b246df8f9039afb4144a1f6fd8d2ca17a180786b69acc140d282b71a49"
   }
  }
 },
 "nbformat": 4,
 "nbformat_minor": 2
}
