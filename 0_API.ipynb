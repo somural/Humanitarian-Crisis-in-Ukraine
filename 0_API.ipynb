{
 "cells": [
  {
   "cell_type": "code",
   "execution_count": null,
   "id": "3f59f682",
   "metadata": {},
   "outputs": [],
   "source": [
    "# Set the environment variable in a terminal\n",
    "export ACLED_API_KEY=\"your-api-key-here\"\n",
    "export ACLED_EMAIL=\"you@youremail.com\""
   ]
  },
  {
   "cell_type": "code",
   "execution_count": null,
   "id": "63523427",
   "metadata": {},
   "outputs": [],
   "source": [
    "import os\n",
    "\n",
    "# Get the API key and email from the environment variables\n",
    "api_key = os.environ.get(\"ACLED_API_KEY\")\n",
    "email = os.environ.get(\"ACLED_EMAIL\")"
   ]
  },
  {
   "cell_type": "code",
   "execution_count": null,
   "id": "2b740b5e",
   "metadata": {},
   "outputs": [],
   "source": [
    "import requests\n",
    "import pandas as pd\n",
    "\n",
    "api_key = \"your_api_key\"\n",
    "email = \"your_email\"\n",
    "url_base = \"https://api.acleddata.com/acled/read/\"\n",
    "\n",
    "# Set the initial last event date and offset\n",
    "last_event_date = \"2023-02-01\"\n",
    "offset = 0\n",
    "\n",
    "# Loop until there is no more data to retrieve\n",
    "while True:\n",
    "    # Define the API endpoint URL with the API key and email as query parameters\n",
    "    url = f\"{url_base}?key={api_key}&email={email}&country=Ukraine&event_date=2022-02-01|{last_event_date}&event_date_where=BETWEEN&limit=500&offset={offset}\"\n",
    "\n",
    "    # Make the HTTP GET request\n",
    "    response = requests.get(url)\n",
    "\n",
    "    # Check if the request was successful (200 status code)\n",
    "    if response.status_code == 200:\n",
    "        # Process the data\n",
    "        data = response.content\n",
    "\n",
    "        # Save the response as a CSV file\n",
    "        with open(f\"acled_data_{offset}.csv\", \"wb\") as f:\n",
    "            f.write(data)\n",
    "\n",
    "        # Convert the CSV data to a DataFrame\n",
    "        df = pd.read_csv(f\"acled_data_{offset}.csv\", encoding=\"utf-8-sig\")\n",
    "\n",
    "        # Concatenate the DataFrame with the previous data\n",
    "        if offset == 0:\n",
    "            all_data = df\n",
    "        else:\n",
    "            all_data = pd.concat([all_data, df])\n",
    "\n",
    "        # Check if there is more data to retrieve\n",
    "        if len(df) < 500:\n",
    "            break\n",
    "        else:\n",
    "            # Update the last event date and offset to retrieve the next set of data\n",
    "            last_event_date = df.iloc[-1][\"event_date\"]\n",
    "            offset += 500\n",
    "\n",
    "# Save all the data to a single CSV file\n",
    "all_data.to_csv(\"acled_data.csv\", index=False, encoding=\"utf-8-sig\")\n"
   ]
  }
 ],
 "metadata": {
  "kernelspec": {
   "display_name": "Python3",
   "language": "python",
   "name": "python3"
  },
  "language_info": {
   "codemirror_mode": {
    "name": "ipython",
    "version": 3
   },
   "file_extension": ".py",
   "mimetype": "text/x-python",
   "name": "python",
   "nbconvert_exporter": "python",
   "pygments_lexer": "ipython3",
   "version": "3.10.8"
  }
 },
 "nbformat": 4,
 "nbformat_minor": 5
}
