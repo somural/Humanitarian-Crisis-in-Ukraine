{
 "cells": [
  {
   "cell_type": "markdown",
   "id": "18c52a9d",
   "metadata": {},
   "source": [
    "# Humanitarian Crisis in Ukraine - NLP Topic Modeling\n",
    "## Svitlana Omural, March 17 2023"
   ]
  },
  {
   "cell_type": "markdown",
   "id": "445b320a",
   "metadata": {},
   "source": [
    "I use topic modeling to extract keywords associated with a type of infrasructure from the report narratives. "
   ]
  },
  {
   "cell_type": "code",
   "execution_count": 1,
   "id": "fda39215",
   "metadata": {
    "slideshow": null
   },
   "outputs": [],
   "source": [
    "import pandas as pd\n",
    "\n",
    "df_ukr = pd.read_csv(\"acled_data.csv\")\n",
    "columns = ['event_date', 'event_type', 'sub_event_type', 'admin1', 'admin2', 'admin3', 'location', 'latitude', \n",
    "           'longitude', 'notes', 'fatalities', 'timestamp']\n",
    "df_ukr = df_ukr[columns]"
   ]
  },
  {
   "cell_type": "markdown",
   "id": "2e65a734",
   "metadata": {},
   "source": [
    "After careful inspection of the reports, I found that only reports on such events as \"Air/drone strike\", \"Remote explosive/landmine/IED\", \"Shelling/artillery/missile attack\", and \"Looting/property destruction\" mention some kind of infrastructure. So, I will only include those events in the following analysis."
   ]
  },
  {
   "cell_type": "code",
   "execution_count": 2,
   "id": "d3cac860",
   "metadata": {
    "slideshow": null
   },
   "outputs": [],
   "source": [
    "df = df_ukr.loc[(df_ukr['sub_event_type'] == 'Air/drone strike') | \n",
    "                (df_ukr['sub_event_type'] == 'Remote explosive/landmine/IED') | \n",
    "                (df_ukr['sub_event_type'] == 'Shelling/artillery/missile attack') |\n",
    "                (df_ukr['sub_event_type'] == 'Looting/property destruction')]"
   ]
  },
  {
   "cell_type": "markdown",
   "id": "189877f1",
   "metadata": {},
   "source": [
    "## First approach: clustering\n",
    "First, I use clustering, a common unsupervised learning technique. Reports are clustered together to generate groups of reports that discuss similar topics."
   ]
  },
  {
   "cell_type": "markdown",
   "id": "fed1c366",
   "metadata": {
    "slideshow": null
   },
   "source": [
    "## Pre-processing and feature extraction"
   ]
  },
  {
   "cell_type": "markdown",
   "id": "50b944c1",
   "metadata": {},
   "source": [
    "To obtain meaningful results, it is essential to preprocess input data. I utilize a widely used NLP technique called \"bag of words\" to tokenize, remove stop words, and lemmatize the data. I use regular expressions and spaCy for that. "
   ]
  },
  {
   "cell_type": "code",
   "execution_count": 3,
   "id": "33deb539",
   "metadata": {},
   "outputs": [
    {
     "name": "stdout",
     "output_type": "stream",
     "text": [
      "['tok2vec', 'tagger', 'attribute_ruler', 'lemmatizer']\n"
     ]
    }
   ],
   "source": [
    "import spacy\n",
    "nlp = spacy.load('en_core_web_sm', disable=['parser','ner','textcat'])\n",
    "\n",
    "print(nlp.pipe_names)"
   ]
  },
  {
   "cell_type": "markdown",
   "id": "6982bffd",
   "metadata": {
    "slideshow": null
   },
   "source": [
    "First, I build a custom tokenizer/lemmatizer. I use regular expression to extract alphabetic characters and change them to lower case, strip out punctuation and spaces from documents. I only keep nouns and adjectives because they define the infrastructure mentioned in reports. I also filter out the location of the event from the text."
   ]
  },
  {
   "cell_type": "code",
   "execution_count": 4,
   "id": "302d8bdd",
   "metadata": {},
   "outputs": [],
   "source": [
    "location = set(df['admin1']).union(df['admin2'], df['admin3'], df['location'])\n",
    "exclude_location = {str(s).lower() for s in location}"
   ]
  },
  {
   "cell_type": "code",
   "execution_count": 5,
   "id": "25ba1e24",
   "metadata": {},
   "outputs": [],
   "source": [
    "import re"
   ]
  },
  {
   "cell_type": "code",
   "execution_count": 6,
   "id": "81fb1f6c",
   "metadata": {},
   "outputs": [],
   "source": [
    "def my_lemmatizer(doc, exclude_words=[]):\n",
    "    if isinstance(doc, float): # check if doc is NaN\n",
    "        return []\n",
    "    doc_cleaned = ' '.join(re.findall(r'\\b[a-zA-Z\\']+\\b', doc.lower()))\n",
    "    lemmas = [w.lemma_.lower() for w in nlp(doc_cleaned) \n",
    "              if w.lemma_ not in ['_', '.', '-PRON-'] and w.pos_ in ['NOUN', 'ADJ']]\n",
    "    lemmas = [lemma for lemma in lemmas if lemma not in exclude_words]\n",
    "    return lemmas"
   ]
  },
  {
   "cell_type": "code",
   "execution_count": 7,
   "id": "d528478b",
   "metadata": {},
   "outputs": [],
   "source": [
    "stopwords = spacy.lang.en.stop_words.STOP_WORDS"
   ]
  },
  {
   "cell_type": "markdown",
   "id": "24a73774",
   "metadata": {},
   "source": [
    "To get meaningful clusters, I added additional stopwords that do not identify infrastructure. "
   ]
  },
  {
   "cell_type": "code",
   "execution_count": 8,
   "id": "99734254",
   "metadata": {},
   "outputs": [],
   "source": [
    "# Remove words unrelated to infrastructure types\n",
    "from spacy.lang.en.stop_words import STOP_WORDS\n",
    "\n",
    "stopwords = STOP_WORDS.union({'equipment', 'fire', 'soldier', 'district', 'result', 'military', 'region', 'civilian', \n",
    "            'people', 'militia', 'dpr', 'lpr', 'mortar', 'position', 'community', 'mlrs', 'artillery', 'private', \n",
    "            'rebel', 'fatality', 'launcher', 'grenade', 'arm', 'small', 'river', 'order', 'area', 'right', 'troop',\n",
    "            'rocket', 'property', 'strike', 'petrovskyi', 'azovstal', 'weapon', 'explosion', 'burst', 'shot', 'total', \n",
    "            'smm', 'osce', 'attack', 'missile', 'displacement', 'damaging', 'object', 'hromada', 'critical', 'shelling', \n",
    "            'city', 'local', 'location', 'complex', 'woman', 'household', 'grad', 'donbass', 'territorial', 'himar', \n",
    "            'village', 'supply', 'settlement', 'direction', 'explosive', 'week', 'movement', 'partisan', 'air', \n",
    "            'serviceman', 'operation', 'event', 'day', 'concentration', 'manpower', 'night', 'drone', 'city'\n",
    "            'airstrike', 'child', 'c', 'offensive', 'uragan', 'person', 'high', 'unspecified', 'gun', 'machine', \n",
    "            'heavy', 'governmental', 'injury', 'evacuation', 'clash', 'cannon', 'multiple', 'cluster', 'munition', \n",
    "            'ammunition', 'base', 'group', 'column', 'bomb', 'report', 'control', 'employee', 'territory', 'airstrike', \n",
    "            'armed', 'town', 'regional', 'unit', 'tank', 'time', 'outskirt', 'place', 'oblast', 'command', 'system', \n",
    "            'damage', 'source', 'point', 'ukraine', 'convoy', 'emergency', 'frontline', 'journalist', 'distribution', \n",
    "            'guard', 'loss', 'source', 'place', 'worker', 'kuibyshivskyi', 'center', 'state', 'destruction', \n",
    "            'infrastructure', 'defence', 'member', 'seizure', 'shell', 'tochka', 'number', 'smerch', 'administration', \n",
    "            'unidentified', 'marhanet', 'battalion', 'department', 'personnel', 'month', 'station', 'service', \n",
    "            'separate', 'officer', 'policeman', 'size', 'sea', 'anti', 'morning', 'dead', 'device', \n",
    "            'building','tokmachka', 'velyka', 'tyshky', 'remnant', 'kirovskyi', 'foce', 'mortart', 'lenina', 'caliber', \n",
    "            'imeni', 'shakhta', 'central', 'komsomolet', 'kreminet', 'balka', 'large', 'kirovskyi', 'caliber', 'buda', \n",
    "            'pole', 'pody', 'scherbaky', 'kozachok', 'nyva', 'different', 'type', 'staryi', 'debris', 'verkhniy', \n",
    "            'assault', 'ground', 'volunteer', 'fragmentation', 'forest', 'depot', 'ivano', 'stronghold', 'defense', \n",
    "            'armored', 'post', 'ammo', 'depot', 'landmine', 'voroshilovsky', 'mala', 'armoured', 'infantry', 'carrier', \n",
    "            'combat', 'aerial', 'unmanned', 'occupation', 'driver', 'head', 'government', 'man', 'south', 'fighter', \n",
    "            'mi', 'helicopter', 'phosphorus', 'land', 'home', 'jet', 'blackout', 'pilot', 'aircraft', 'old', 'ied', \n",
    "            'mayor', 'ifvs', 'casulatie', 'projectile', 'leninskyi', 'police', 'year', 'aid', 'piece', 'crossing', \n",
    "            'advance', 'advancement', 'dnieper', 'howitzer', 'self', 'pickup', 'fighting', 'plane', 'ruski', 'dozen', \n",
    "            'checkpoint', 'exact', 'nearby', 'inhulet', 'resistance', 'official', 'u', 'rih', 'evening',\n",
    "            'shahed', 'radar', 'machinegun', 'regular', 'headquarters', 'urahan', 'unexploded', 'border', 'iskander', \n",
    "            'repair', 'shevchenkivskyi', 'kyivskyi', 'information', 'facility', 'office', 'barrel', 'warehouse', \n",
    "            'vehicle', 'russian', 'ukrainian', 'force', 'unknown', 'casualty', 'novhorod', 'siverskyi', 'kinski', \n",
    "            'rosdory', 'civil', 'resident', 'automatic', 'headquarter', 'phosphoru'}) "
   ]
  },
  {
   "cell_type": "markdown",
   "id": "0decdca9",
   "metadata": {
    "slideshow": null
   },
   "source": [
    "After pre-processing the text, the next step is to vectorize it. I use the CountVectorizer method to obtain a count of the words in the text. Then, I use the TfidfTransformer method to weight the words by their inverse document frequency."
   ]
  },
  {
   "cell_type": "code",
   "execution_count": 9,
   "id": "207f1d7d",
   "metadata": {
    "slideshow": null
   },
   "outputs": [],
   "source": [
    "from sklearn.feature_extraction.text import CountVectorizer, TfidfTransformer\n",
    "from scipy.sparse import coo_matrix"
   ]
  },
  {
   "cell_type": "code",
   "execution_count": 10,
   "id": "01766ed6",
   "metadata": {},
   "outputs": [
    {
     "name": "stderr",
     "output_type": "stream",
     "text": [
      "/home/jovyan/.local/lib/python3.10/site-packages/sklearn/feature_extraction/text.py:409: UserWarning: Your stop_words may be inconsistent with your preprocessing. Tokenizing the stop words generated tokens ['headquart'] not in stop_words.\n",
      "  warnings.warn(\n"
     ]
    }
   ],
   "source": [
    "cv = CountVectorizer(tokenizer=lambda x: my_lemmatizer(x, exclude_words=exclude_location), \n",
    "                     stop_words=list(stopwords),\n",
    "                     #ngram_range=(2,2),\n",
    "                     min_df=10, max_df=800,\n",
    "                     token_pattern=None)\n",
    "counts = cv.fit_transform(df['notes'])\n",
    "\n",
    "tf = TfidfTransformer()\n",
    "matrix = tf.fit_transform(counts)"
   ]
  },
  {
   "cell_type": "markdown",
   "id": "8f124956",
   "metadata": {
    "slideshow": null
   },
   "source": [
    "## $K$-means clustering \n",
    "\n",
    "To identify \"topics of conversation\" in the data, I employ the $k$-means clustering algorithm. It groups documents together based on their vector similarity, where the smaller the difference of their vectors, the closer they are. $k$-means clustering is an unsupervised learning algorithm since the optimal number of clusters is unknown. I tried different numbers of clusters from 5-15. Then I compared their silhouette scores and examined the top words in the clusters to check if there is a significant overlap of common words. I found that 7 is a good number of clusters in this case."
   ]
  },
  {
   "cell_type": "code",
   "execution_count": 11,
   "id": "7a91457f",
   "metadata": {
    "slideshow": null
   },
   "outputs": [],
   "source": [
    "from sklearn.cluster import KMeans"
   ]
  },
  {
   "cell_type": "code",
   "execution_count": 12,
   "id": "138b3024",
   "metadata": {
    "slideshow": null
   },
   "outputs": [
    {
     "data": {
      "text/html": [
       "<style>#sk-container-id-1 {color: black;background-color: white;}#sk-container-id-1 pre{padding: 0;}#sk-container-id-1 div.sk-toggleable {background-color: white;}#sk-container-id-1 label.sk-toggleable__label {cursor: pointer;display: block;width: 100%;margin-bottom: 0;padding: 0.3em;box-sizing: border-box;text-align: center;}#sk-container-id-1 label.sk-toggleable__label-arrow:before {content: \"▸\";float: left;margin-right: 0.25em;color: #696969;}#sk-container-id-1 label.sk-toggleable__label-arrow:hover:before {color: black;}#sk-container-id-1 div.sk-estimator:hover label.sk-toggleable__label-arrow:before {color: black;}#sk-container-id-1 div.sk-toggleable__content {max-height: 0;max-width: 0;overflow: hidden;text-align: left;background-color: #f0f8ff;}#sk-container-id-1 div.sk-toggleable__content pre {margin: 0.2em;color: black;border-radius: 0.25em;background-color: #f0f8ff;}#sk-container-id-1 input.sk-toggleable__control:checked~div.sk-toggleable__content {max-height: 200px;max-width: 100%;overflow: auto;}#sk-container-id-1 input.sk-toggleable__control:checked~label.sk-toggleable__label-arrow:before {content: \"▾\";}#sk-container-id-1 div.sk-estimator input.sk-toggleable__control:checked~label.sk-toggleable__label {background-color: #d4ebff;}#sk-container-id-1 div.sk-label input.sk-toggleable__control:checked~label.sk-toggleable__label {background-color: #d4ebff;}#sk-container-id-1 input.sk-hidden--visually {border: 0;clip: rect(1px 1px 1px 1px);clip: rect(1px, 1px, 1px, 1px);height: 1px;margin: -1px;overflow: hidden;padding: 0;position: absolute;width: 1px;}#sk-container-id-1 div.sk-estimator {font-family: monospace;background-color: #f0f8ff;border: 1px dotted black;border-radius: 0.25em;box-sizing: border-box;margin-bottom: 0.5em;}#sk-container-id-1 div.sk-estimator:hover {background-color: #d4ebff;}#sk-container-id-1 div.sk-parallel-item::after {content: \"\";width: 100%;border-bottom: 1px solid gray;flex-grow: 1;}#sk-container-id-1 div.sk-label:hover label.sk-toggleable__label {background-color: #d4ebff;}#sk-container-id-1 div.sk-serial::before {content: \"\";position: absolute;border-left: 1px solid gray;box-sizing: border-box;top: 0;bottom: 0;left: 50%;z-index: 0;}#sk-container-id-1 div.sk-serial {display: flex;flex-direction: column;align-items: center;background-color: white;padding-right: 0.2em;padding-left: 0.2em;position: relative;}#sk-container-id-1 div.sk-item {position: relative;z-index: 1;}#sk-container-id-1 div.sk-parallel {display: flex;align-items: stretch;justify-content: center;background-color: white;position: relative;}#sk-container-id-1 div.sk-item::before, #sk-container-id-1 div.sk-parallel-item::before {content: \"\";position: absolute;border-left: 1px solid gray;box-sizing: border-box;top: 0;bottom: 0;left: 50%;z-index: -1;}#sk-container-id-1 div.sk-parallel-item {display: flex;flex-direction: column;z-index: 1;position: relative;background-color: white;}#sk-container-id-1 div.sk-parallel-item:first-child::after {align-self: flex-end;width: 50%;}#sk-container-id-1 div.sk-parallel-item:last-child::after {align-self: flex-start;width: 50%;}#sk-container-id-1 div.sk-parallel-item:only-child::after {width: 0;}#sk-container-id-1 div.sk-dashed-wrapped {border: 1px dashed gray;margin: 0 0.4em 0.5em 0.4em;box-sizing: border-box;padding-bottom: 0.4em;background-color: white;}#sk-container-id-1 div.sk-label label {font-family: monospace;font-weight: bold;display: inline-block;line-height: 1.2em;}#sk-container-id-1 div.sk-label-container {text-align: center;}#sk-container-id-1 div.sk-container {/* jupyter's `normalize.less` sets `[hidden] { display: none; }` but bootstrap.min.css set `[hidden] { display: none !important; }` so we also need the `!important` here to be able to override the default hidden behavior on the sphinx rendered scikit-learn.org. See: https://github.com/scikit-learn/scikit-learn/issues/21755 */display: inline-block !important;position: relative;}#sk-container-id-1 div.sk-text-repr-fallback {display: none;}</style><div id=\"sk-container-id-1\" class=\"sk-top-container\"><div class=\"sk-text-repr-fallback\"><pre>KMeans(n_clusters=7, n_init=3, random_state=117)</pre><b>In a Jupyter environment, please rerun this cell to show the HTML representation or trust the notebook. <br />On GitHub, the HTML representation is unable to render, please try loading this page with nbviewer.org.</b></div><div class=\"sk-container\" hidden><div class=\"sk-item\"><div class=\"sk-estimator sk-toggleable\"><input class=\"sk-toggleable__control sk-hidden--visually\" id=\"sk-estimator-id-1\" type=\"checkbox\" checked><label for=\"sk-estimator-id-1\" class=\"sk-toggleable__label sk-toggleable__label-arrow\">KMeans</label><div class=\"sk-toggleable__content\"><pre>KMeans(n_clusters=7, n_init=3, random_state=117)</pre></div></div></div></div></div>"
      ],
      "text/plain": [
       "KMeans(n_clusters=7, n_init=3, random_state=117)"
      ]
     },
     "execution_count": 12,
     "metadata": {},
     "output_type": "execute_result"
    }
   ],
   "source": [
    "number_of_clusters = 7\n",
    "\n",
    "kmc_7 = KMeans(n_clusters=number_of_clusters, n_init=3, random_state=117)\n",
    "kmc_7.fit(matrix)"
   ]
  },
  {
   "cell_type": "markdown",
   "id": "26baf294",
   "metadata": {
    "slideshow": null
   },
   "source": [
    "To identify the main themes of each cluster, I find the center of each cluster and sort the coordinates to determine the largest components of each vector. Then, I combine those largest vector components with the corresponding feature names to extract the most important words for each cluster."
   ]
  },
  {
   "cell_type": "code",
   "execution_count": null,
   "id": "9409609b",
   "metadata": {
    "slideshow": null
   },
   "outputs": [],
   "source": [
    "# get coordinates of each center of the clusters\n",
    "kmc_7.cluster_centers_"
   ]
  },
  {
   "cell_type": "code",
   "execution_count": 14,
   "id": "922d47d4",
   "metadata": {
    "slideshow": null
   },
   "outputs": [
    {
     "name": "stdout",
     "output_type": "stream",
     "text": [
      "Cluster 0: \n",
      "zalizna bridge power \n",
      "\n",
      "Cluster 1: \n",
      "gas kindergarten residential \n",
      "\n",
      "Cluster 2: \n",
      "apartment residential house \n",
      "\n",
      "Cluster 3: \n",
      "ambulance house car \n",
      "\n",
      "Cluster 4: \n",
      "school residential hospital \n",
      "\n",
      "Cluster 5: \n",
      "house residential school \n",
      "\n",
      "Cluster 6: \n",
      "line bridge railway \n",
      "\n"
     ]
    }
   ],
   "source": [
    "import numpy as np\n",
    "\n",
    "number_of_top_words = 3\n",
    "\n",
    "# sort the coordinates to find the largest components of each vector\n",
    "cluster_words = np.argsort(kmc_7.cluster_centers_, axis=1)\n",
    "\n",
    "# extract a list of words to look up a word, given its index in the vector\n",
    "terms = cv.get_feature_names_out()\n",
    "\n",
    "top_words = set()\n",
    "\n",
    "for i in range(number_of_clusters):\n",
    "    print(f'Cluster {i}: ')\n",
    "    print(' '.join([terms[k] for k in cluster_words[i][-number_of_top_words:]]),'\\n')\n",
    "    top_words = top_words.union([terms[k] for k in cluster_words[i][-number_of_top_words:]])\n",
    "    \n",
    "top_words = sorted(list(top_words))"
   ]
  },
  {
   "cell_type": "markdown",
   "id": "1c50a744",
   "metadata": {},
   "source": [
    "By analyzing these words, I update my list of stopwords and reprocess the resulting new bag of words matrix."
   ]
  },
  {
   "cell_type": "markdown",
   "id": "4044561d",
   "metadata": {
    "slideshow": null
   },
   "source": [
    "To evaluate the quality of my clustering, I use \"silhouette score\" in scikit-learn. "
   ]
  },
  {
   "cell_type": "code",
   "execution_count": 15,
   "id": "d7c36600",
   "metadata": {
    "slideshow": null
   },
   "outputs": [],
   "source": [
    "#combine counts with cluster labels to create a pandas DataFrame\n",
    "word_df = pd.DataFrame(counts.toarray(), columns=terms)[top_words]\n",
    "word_df['Cluster'] = kmc_7.labels_.tolist()"
   ]
  },
  {
   "cell_type": "code",
   "execution_count": 16,
   "id": "94dd3ec1",
   "metadata": {
    "slideshow": null
   },
   "outputs": [
    {
     "data": {
      "text/html": [
       "<div>\n",
       "<style scoped>\n",
       "    .dataframe tbody tr th:only-of-type {\n",
       "        vertical-align: middle;\n",
       "    }\n",
       "\n",
       "    .dataframe tbody tr th {\n",
       "        vertical-align: top;\n",
       "    }\n",
       "\n",
       "    .dataframe thead th {\n",
       "        text-align: right;\n",
       "    }\n",
       "</style>\n",
       "<table border=\"1\" class=\"dataframe\">\n",
       "  <thead>\n",
       "    <tr style=\"text-align: right;\">\n",
       "      <th></th>\n",
       "      <th>ambulance</th>\n",
       "      <th>apartment</th>\n",
       "      <th>bridge</th>\n",
       "      <th>car</th>\n",
       "      <th>gas</th>\n",
       "      <th>hospital</th>\n",
       "      <th>house</th>\n",
       "      <th>kindergarten</th>\n",
       "      <th>line</th>\n",
       "      <th>power</th>\n",
       "      <th>railway</th>\n",
       "      <th>residential</th>\n",
       "      <th>school</th>\n",
       "      <th>zalizna</th>\n",
       "      <th>Cluster</th>\n",
       "    </tr>\n",
       "  </thead>\n",
       "  <tbody>\n",
       "    <tr>\n",
       "      <th>0</th>\n",
       "      <td>0</td>\n",
       "      <td>0</td>\n",
       "      <td>0</td>\n",
       "      <td>0</td>\n",
       "      <td>0</td>\n",
       "      <td>0</td>\n",
       "      <td>0</td>\n",
       "      <td>0</td>\n",
       "      <td>0</td>\n",
       "      <td>0</td>\n",
       "      <td>0</td>\n",
       "      <td>0</td>\n",
       "      <td>0</td>\n",
       "      <td>0</td>\n",
       "      <td>0</td>\n",
       "    </tr>\n",
       "    <tr>\n",
       "      <th>1</th>\n",
       "      <td>0</td>\n",
       "      <td>0</td>\n",
       "      <td>0</td>\n",
       "      <td>0</td>\n",
       "      <td>0</td>\n",
       "      <td>0</td>\n",
       "      <td>0</td>\n",
       "      <td>0</td>\n",
       "      <td>0</td>\n",
       "      <td>0</td>\n",
       "      <td>0</td>\n",
       "      <td>0</td>\n",
       "      <td>0</td>\n",
       "      <td>0</td>\n",
       "      <td>0</td>\n",
       "    </tr>\n",
       "    <tr>\n",
       "      <th>2</th>\n",
       "      <td>0</td>\n",
       "      <td>0</td>\n",
       "      <td>0</td>\n",
       "      <td>0</td>\n",
       "      <td>0</td>\n",
       "      <td>0</td>\n",
       "      <td>0</td>\n",
       "      <td>0</td>\n",
       "      <td>0</td>\n",
       "      <td>0</td>\n",
       "      <td>0</td>\n",
       "      <td>0</td>\n",
       "      <td>0</td>\n",
       "      <td>0</td>\n",
       "      <td>0</td>\n",
       "    </tr>\n",
       "    <tr>\n",
       "      <th>3</th>\n",
       "      <td>0</td>\n",
       "      <td>0</td>\n",
       "      <td>0</td>\n",
       "      <td>0</td>\n",
       "      <td>0</td>\n",
       "      <td>0</td>\n",
       "      <td>0</td>\n",
       "      <td>0</td>\n",
       "      <td>0</td>\n",
       "      <td>0</td>\n",
       "      <td>0</td>\n",
       "      <td>0</td>\n",
       "      <td>0</td>\n",
       "      <td>0</td>\n",
       "      <td>0</td>\n",
       "    </tr>\n",
       "    <tr>\n",
       "      <th>4</th>\n",
       "      <td>0</td>\n",
       "      <td>0</td>\n",
       "      <td>0</td>\n",
       "      <td>0</td>\n",
       "      <td>0</td>\n",
       "      <td>0</td>\n",
       "      <td>0</td>\n",
       "      <td>0</td>\n",
       "      <td>0</td>\n",
       "      <td>0</td>\n",
       "      <td>0</td>\n",
       "      <td>0</td>\n",
       "      <td>0</td>\n",
       "      <td>0</td>\n",
       "      <td>0</td>\n",
       "    </tr>\n",
       "  </tbody>\n",
       "</table>\n",
       "</div>"
      ],
      "text/plain": [
       "   ambulance  apartment  bridge  car  gas  hospital  house  kindergarten  \\\n",
       "0          0          0       0    0    0         0      0             0   \n",
       "1          0          0       0    0    0         0      0             0   \n",
       "2          0          0       0    0    0         0      0             0   \n",
       "3          0          0       0    0    0         0      0             0   \n",
       "4          0          0       0    0    0         0      0             0   \n",
       "\n",
       "   line  power  railway  residential  school  zalizna  Cluster  \n",
       "0     0      0        0            0       0        0        0  \n",
       "1     0      0        0            0       0        0        0  \n",
       "2     0      0        0            0       0        0        0  \n",
       "3     0      0        0            0       0        0        0  \n",
       "4     0      0        0            0       0        0        0  "
      ]
     },
     "execution_count": 16,
     "metadata": {},
     "output_type": "execute_result"
    }
   ],
   "source": [
    "word_df.head()"
   ]
  },
  {
   "cell_type": "code",
   "execution_count": 17,
   "id": "0cecf4e9",
   "metadata": {
    "slideshow": null
   },
   "outputs": [
    {
     "name": "stdout",
     "output_type": "stream",
     "text": [
      "Clusters: 7  Silhouette score: 0.9119178167296846\n"
     ]
    }
   ],
   "source": [
    "from sklearn.metrics import silhouette_score\n",
    "\n",
    "print(f'Clusters: {number_of_clusters}  Silhouette score: {silhouette_score(matrix, word_df[\"Cluster\"])}')"
   ]
  },
  {
   "cell_type": "markdown",
   "id": "76273bba",
   "metadata": {},
   "source": [
    "The silhouette score is close to 1, indicating that the object is well-matched to its own cluster and poorly matched to neighboring clusters."
   ]
  },
  {
   "cell_type": "markdown",
   "id": "db11eff6",
   "metadata": {
    "slideshow": null
   },
   "source": [
    "To get more insight into the clustering, I visualize the results. First, let's see how many documents (reports) are in each cluster.    "
   ]
  },
  {
   "cell_type": "code",
   "execution_count": 18,
   "id": "1c8d0759",
   "metadata": {
    "slideshow": null
   },
   "outputs": [
    {
     "data": {
      "image/png": "[encoded data removed]",
      "text/plain": [
       "<Figure size 640x480 with 1 Axes>"
      ]
     },
     "metadata": {},
     "output_type": "display_data"
    }
   ],
   "source": [
    "word_df.groupby('Cluster').count()[top_words[0]].\\\n",
    "    plot.bar(rot=0).\\\n",
    "    set(ylabel='Document count',\n",
    "    title='Number of Documents per Cluster');"
   ]
  },
  {
   "cell_type": "markdown",
   "id": "c2e53a70",
   "metadata": {
    "slideshow": null
   },
   "source": [
    "Cluster 0 has disproportionally high number of documents."
   ]
  },
  {
   "cell_type": "markdown",
   "id": "6e94af46",
   "metadata": {
    "slideshow": null
   },
   "source": [
    "Let's visualize the frequency of the \"top words\" within each cluster."
   ]
  },
  {
   "cell_type": "code",
   "execution_count": 19,
   "id": "0756b1ce",
   "metadata": {
    "slideshow": null
   },
   "outputs": [
    {
     "data": {
      "image/png": "[encoded data removed]",
      "text/plain": [
       "<Figure size 1300x500 with 1 Axes>"
      ]
     },
     "metadata": {},
     "output_type": "display_data"
    }
   ],
   "source": [
    "word_df.groupby('Cluster').sum().transpose().\\\n",
    "    plot.bar(figsize=(13,5), width=0.7).\\\n",
    "    set(ylabel='Word frequency', \n",
    "    title=f'Word Frequencies by Topic, Combining the Top {number_of_top_words} Words in Each Topic');"
   ]
  },
  {
   "cell_type": "markdown",
   "id": "bc78a806",
   "metadata": {
    "slideshow": null
   },
   "source": [
    "The model produced 7 clusters: power, shelter, transport, health, education, logistics infrastructure. There are 2 shelter clusters. Setting different number of clusters does not change that. Disproportionally large number of residential building and houses have been damaged. There's also some overlapping of common words because multiple infrastructures can be damaged in a single attack. \n",
    "Note: 'zalizna' means railway in Ukrainian."
   ]
  },
  {
   "cell_type": "markdown",
   "id": "b0824df4",
   "metadata": {
    "slideshow": null
   },
   "source": [
    "## Second Approach: Latent Dirichlet allocation (LDA)\n",
    "\n",
    "The clustering approach that utilizes values from the TfidfTransformer relies on the similarity of the associated vectors, with documents being considered similar if their vectors are close to each other. However, this method assumes that exactly same words are used in a particular topic.\n",
    "\n",
    "On the other hand, the LDA model assumes that documents are generated word by word. For every possible word, a topic is chosen based on a hidden probability distribution over the set of topics, and then a specific word is chosen based on another hidden probability distribution over a set of words for that topic. The LDA machine learning algorithm's training process aims to construct these unknown probability distributions."
   ]
  },
  {
   "cell_type": "markdown",
   "id": "2bec0f03",
   "metadata": {
    "slideshow": null
   },
   "source": [
    "I use the gensim library and its LdaModel class."
   ]
  },
  {
   "cell_type": "code",
   "execution_count": 20,
   "id": "25d2924e",
   "metadata": {
    "slideshow": null
   },
   "outputs": [],
   "source": [
    "import gensim"
   ]
  },
  {
   "cell_type": "code",
   "execution_count": 21,
   "id": "f18c0ddf",
   "metadata": {
    "slideshow": null
   },
   "outputs": [
    {
     "data": {
      "text/html": [
       "<div>\n",
       "<style scoped>\n",
       "    .dataframe tbody tr th:only-of-type {\n",
       "        vertical-align: middle;\n",
       "    }\n",
       "\n",
       "    .dataframe tbody tr th {\n",
       "        vertical-align: top;\n",
       "    }\n",
       "\n",
       "    .dataframe thead th {\n",
       "        text-align: right;\n",
       "    }\n",
       "</style>\n",
       "<table border=\"1\" class=\"dataframe\">\n",
       "  <thead>\n",
       "    <tr style=\"text-align: right;\">\n",
       "      <th></th>\n",
       "      <th>notes</th>\n",
       "    </tr>\n",
       "  </thead>\n",
       "  <tbody>\n",
       "    <tr>\n",
       "      <th>13</th>\n",
       "      <td>On 27 January 2023, Russian forces shelled nea...</td>\n",
       "    </tr>\n",
       "    <tr>\n",
       "      <th>14</th>\n",
       "      <td>On 27 January 2023, Russian forces shelled nea...</td>\n",
       "    </tr>\n",
       "    <tr>\n",
       "      <th>15</th>\n",
       "      <td>On 27 January 2023, Russian forces shelled nea...</td>\n",
       "    </tr>\n",
       "    <tr>\n",
       "      <th>16</th>\n",
       "      <td>On 27 January 2023, Russian forces shelled nea...</td>\n",
       "    </tr>\n",
       "    <tr>\n",
       "      <th>17</th>\n",
       "      <td>On 27 January 2023, Russian forces shelled nea...</td>\n",
       "    </tr>\n",
       "  </tbody>\n",
       "</table>\n",
       "</div>"
      ],
      "text/plain": [
       "                                                notes\n",
       "13  On 27 January 2023, Russian forces shelled nea...\n",
       "14  On 27 January 2023, Russian forces shelled nea...\n",
       "15  On 27 January 2023, Russian forces shelled nea...\n",
       "16  On 27 January 2023, Russian forces shelled nea...\n",
       "17  On 27 January 2023, Russian forces shelled nea..."
      ]
     },
     "execution_count": 21,
     "metadata": {},
     "output_type": "execute_result"
    }
   ],
   "source": [
    "notes_text = df[['notes']]\n",
    "notes_text.head()"
   ]
  },
  {
   "cell_type": "code",
   "execution_count": 22,
   "id": "d4a4af24",
   "metadata": {},
   "outputs": [
    {
     "data": {
      "text/plain": [
       "Index(['notes'], dtype='object')"
      ]
     },
     "execution_count": 22,
     "metadata": {},
     "output_type": "execute_result"
    }
   ],
   "source": [
    "notes_text.columns"
   ]
  },
  {
   "cell_type": "code",
   "execution_count": 23,
   "id": "8a4c180f",
   "metadata": {
    "slideshow": null
   },
   "outputs": [],
   "source": [
    "texts = notes_text.notes.values.tolist()"
   ]
  },
  {
   "cell_type": "code",
   "execution_count": 24,
   "id": "2104c3b9",
   "metadata": {},
   "outputs": [
    {
     "data": {
      "text/plain": [
       "['On 27 January 2023, Russian forces shelled near Avdiivka, Donetsk. Casualties unknown.',\n",
       " 'On 27 January 2023, Russian forces shelled near Bachivsk, Sumy. Casualties unknown.',\n",
       " 'On 27 January 2023, Russian forces shelled near Berdychi, Donetsk. Casualties unknown.',\n",
       " 'On 27 January 2023, Russian forces shelled near Berestove, Kharkiv. Casualties unknown.',\n",
       " 'On 27 January 2023, Russian forces shelled near Bila Hora, Donetsk. Casualties unknown.',\n",
       " 'On 27 January 2023, Russian forces shelled near Bilyi Kolodiaz, Kharkiv. Casualties unknown.',\n",
       " 'On 27 January 2023, Russian forces shelled near Blahodatne, Donetsk. Casualties unknown.',\n",
       " 'On 27 January 2023, Russian forces shelled near Bohoiavlenka, Donetsk. Casualties unknown.',\n",
       " 'On 27 January 2023, Russian forces shelled near Budarky, Kharkiv. Casualties unknown.',\n",
       " 'On 27 January 2023, Russian forces shelled near Burhunka, Kherson. Casualties unknown.']"
      ]
     },
     "execution_count": 24,
     "metadata": {},
     "output_type": "execute_result"
    }
   ],
   "source": [
    "texts[:10]"
   ]
  },
  {
   "cell_type": "markdown",
   "id": "1f131553",
   "metadata": {
    "slideshow": null
   },
   "source": [
    "Again, I preprocess the data by removing stop words and event location, keeping nouns and adjectives, and lemmatizing the text of the reports.  "
   ]
  },
  {
   "cell_type": "code",
   "execution_count": 25,
   "id": "76324c96",
   "metadata": {},
   "outputs": [],
   "source": [
    "from spacy.lang.en.stop_words import STOP_WORDS\n",
    "\n",
    "stopwords = STOP_WORDS.union({'arm', 'attack', 'casualty', 'clash', 'district', 'fatality', 'force', 'local', \n",
    "            'military', 'militia', 'people', 'position', 'region', 'result', 'russian', 'small', 'soldier', 'total', \n",
    "            'ukrainian', 'unknown', 'weapon', 'air', 'airstrike', 'armed', 'artillery', 'azovstal', 'causality', \n",
    "            'center', 'city', 'concentration', 'day', 'explosion', 'grenade', 'heavy', 'launcher', 'location', \n",
    "            'manpower', 'missile', 'mortar', 'rocket', 'shot', 'strike', 'unspecified', 'area', 'bomb', 'border', \n",
    "            'dpr', 'drone', 'emergency', 'grad', 'guard', 'gun', 'oblast', 'person', 'service', 'serviceman', 'size', \n",
    "            'state', 'tank', 'troop', 'unit', 'administration', 'ammunition', 'event', 'government', 'group', 'injury', \n",
    "            'man', 'movement', 'partisan', 'property', 'report', 'town', 'unidentified', 'child', 'community', \n",
    "            'convoy', 'explosive', 'occupation', 'order', 'personnel', 'territorial', 'village', 'woman', 'battalion', \n",
    "            'cluster', 'damage', 'damaging', 'defence', 'direction', 'journalist', 'lpr', 'munition', 'number', \n",
    "            'petrovskyi', 'resident', 'shell', 'shelling', 'territory', 'control', 'destruction', 'device', \n",
    "            'equipment', 'month', 'source', 'company', 'displacement', 'employee', 'enterprise', 'evacuation', 'head', \n",
    "            'loss', 'morning', 'offensive', 'official', 'settlement', 'aid', 'dead', 'high', 'old', 'place', 'police', \n",
    "            'policeman', 'regional', 'year', 'column', 'command', 'headquarters', 'himar', 'humanitarian', 'night', \n",
    "            'right', 'separate', 'system', 'ukraine', 'uragan', 'worker', 'kirovskyi', 'rise', 'frontline', 'multiple',\n",
    "            'mayor', 'supply', 'black', 'sea', 'building', 'civil', 'civilian', 'infrastructure', 'aerial', 'armored', \n",
    "            'cannon', 'carrier', 'combat', 'counter', 'depot', 'fighting', 'fire', 'ground', 'infantry', 'information', \n",
    "            'komsomolet', 'kuibyshivskyi', 'leninskyi', 'mala', 'mlrs', 'radar', 'remnant', 'rih', 'self', 'smerch', \n",
    "            'time', 'tokmachka', 'type', 'u', 'unmanned', 'week', 'balka','base', 'boarding', 'c', 'ceramic', 'concert', \n",
    "            'deposit', 'facility', 'forester', 'home', 'howitzer', 'likely', 'member', 'michurin', 'object', 'pickup', \n",
    "            'set', 'shahed', 'special', 'submarine', 'target', 'unclear', 'velyka', 'airbome', 'appliance', 'assailant', \n",
    "            'axis', 'coast', 'defense', 'furniture', 'goal', 'helicopter', 'hromada', 'leadership', 'multi', 'numerous', \n",
    "            'pig', 'yasna', 'basement', 'buda', 'effect', 'ivano', 'kilometer', 'kozachok', 'kremyanet', 'kyivsjyi', \n",
    "            'landmine', 'nona', 'nyva', 'odessa', 'patrol', 'pier', 'pole', 'positiosn', 'ammo', 'moldovan', 'millennial', \n",
    "            'platoon', 'box', 'spirit', 'work', 'story', 'boyaro', 'victim', 'non', 'point', 'deployment', 'tanker', \n",
    "            'research', 'temporary', 'resupply', 'airborne', 'functioning', 'kyivski', 'ammonium', 'launchersat', \n",
    "            'inhulet', 'kamikaze', 'marhanet', 'maritime', 'mental', 'novobavarrskyi', 'prechystivkar', 'redut', 'craft',\n",
    "            'repelent', 'sailor', 'able', 'accident', 'bomber', 'hardware', 'khakiv', 'killing', 'locality', 'nemyshlyan', \n",
    "            'officer', 'pidyomnyy', 'rest', 'batch', 'bmp', 'committee', 'karlivske', 'kyivskyi', 'main', 'portuguese', \n",
    "            'saltivka', 'znob', 'fleet', 'international', 'legion', 'liter', 'pohorilove', 'reservoir', 'spg', \n",
    "            'bereznehuvata', 'tpp', 'exile', 'druha', 'northern', 'saltiv', 'ongoing', 'regular'})"
   ]
  },
  {
   "cell_type": "code",
   "execution_count": 26,
   "id": "d1bdbef6",
   "metadata": {},
   "outputs": [],
   "source": [
    "def my_lemmatizer(doc, exclude_words=[], stopwords=stopwords):\n",
    "    if isinstance(doc, float): # check if doc is NaN\n",
    "        return []\n",
    "    if isinstance(doc, list):\n",
    "        # apply the function to each element in the list\n",
    "        return [my_lemmatizer(d, exclude_words=exclude_words) for d in doc]\n",
    "    doc_cleaned = ' '.join(re.findall(r'\\b[a-zA-Z\\']+\\b', doc.lower()))\n",
    "    lemmas = [w.lemma_.lower() for w in nlp(doc_cleaned) \n",
    "              if w.lemma_ not in ['_', '.', '-PRON-'] and w.pos_ in ['NOUN', 'ADJ'] and w.lemma_ not in stopwords]\n",
    "    lemmas = [lemma for lemma in lemmas if lemma not in exclude_words]\n",
    "    return lemmas\n",
    "\n",
    "processed_text = my_lemmatizer(texts, exclude_words=exclude_location)"
   ]
  },
  {
   "cell_type": "markdown",
   "id": "e8e4df65",
   "metadata": {
    "slideshow": null
   },
   "source": [
    "Let's compare one of the original reviews to the processed text."
   ]
  },
  {
   "cell_type": "code",
   "execution_count": 27,
   "id": "d03079f5",
   "metadata": {
    "slideshow": null
   },
   "outputs": [
    {
     "data": {
      "text/plain": [
       "'On 27 January 2023, Russian forces shelled near Avdiivka, Donetsk. Casualties unknown.'"
      ]
     },
     "execution_count": 27,
     "metadata": {},
     "output_type": "execute_result"
    }
   ],
   "source": [
    "texts[0]"
   ]
  },
  {
   "cell_type": "code",
   "execution_count": 28,
   "id": "f485dfda",
   "metadata": {
    "slideshow": null
   },
   "outputs": [
    {
     "name": "stdout",
     "output_type": "stream",
     "text": [
      "[]\n"
     ]
    }
   ],
   "source": [
    "print(processed_text[0])"
   ]
  },
  {
   "cell_type": "markdown",
   "id": "30c2789b",
   "metadata": {
    "slideshow": null
   },
   "source": [
    "To create the \"bag of words\", I assemble the overall vocabulary/dictionary of words and then create the word count vectors."
   ]
  },
  {
   "cell_type": "code",
   "execution_count": 29,
   "id": "60b13c16",
   "metadata": {
    "slideshow": null
   },
   "outputs": [
    {
     "name": "stdout",
     "output_type": "stream",
     "text": [
      "Number of unique tokens: 1302\n"
     ]
    }
   ],
   "source": [
    "# Assemble the overall vocabulary/dictionary of words\n",
    "dictionary = gensim.corpora.Dictionary(processed_text)\n",
    "print(f'Number of unique tokens: {len(dictionary)}')"
   ]
  },
  {
   "cell_type": "code",
   "execution_count": 30,
   "id": "2de85b2d",
   "metadata": {
    "slideshow": null
   },
   "outputs": [],
   "source": [
    "# Create the word count vectors\n",
    "corpus = [dictionary.doc2bow(t) for t in processed_text]"
   ]
  },
  {
   "cell_type": "markdown",
   "id": "cbae9254",
   "metadata": {
    "slideshow": null
   },
   "source": [
    "I built LDA models with different numbers of topics from 5-10, and found that 5 topics produces the highest coherence score and least overlapping of the top words.  "
   ]
  },
  {
   "cell_type": "markdown",
   "id": "2fe41e56",
   "metadata": {
    "slideshow": null
   },
   "source": [
    "Let's examine the five topics and get the relative weight of how much each of the topic's top words contribute to that topic.  "
   ]
  },
  {
   "cell_type": "code",
   "execution_count": 31,
   "id": "daf05026",
   "metadata": {
    "slideshow": null
   },
   "outputs": [],
   "source": [
    "num_topics = 5\n",
    "\n",
    "lda_model = gensim.models.ldamodel.LdaModel(corpus=corpus, \n",
    "                                            id2word=dictionary,\n",
    "                                            num_topics=num_topics, \n",
    "                                            random_state=117, update_every=1,\n",
    "                                            chunksize=1500, \n",
    "                                            passes=5, iterations=10,\n",
    "                                            alpha='asymmetric', eta=1/100,\n",
    "                                            per_word_topics=True)"
   ]
  },
  {
   "cell_type": "code",
   "execution_count": 32,
   "id": "11b0be40",
   "metadata": {
    "slideshow": null
   },
   "outputs": [
    {
     "name": "stdout",
     "output_type": "stream",
     "text": [
      "[(0, '0.353*\"residential\" + 0.289*\"house\" + 0.082*\"school\"'),\n",
      " (1, '0.325*\"vehicle\" + 0.173*\"station\" + 0.140*\"line\"'),\n",
      " (2, '0.734*\"kindergarten\" + 0.121*\"clinic\" + 0.024*\"outpatient\"'),\n",
      " (3, '0.808*\"private\" + 0.082*\"food\" + 0.025*\"healthcare\"'),\n",
      " (4, '0.001*\"production\" + 0.001*\"automobile\" + 0.001*\"crop\"')]\n"
     ]
    }
   ],
   "source": [
    "from pprint import pprint\n",
    "\n",
    "pprint(lda_model.print_topics(num_words=3))"
   ]
  },
  {
   "cell_type": "markdown",
   "id": "baa8e436",
   "metadata": {
    "slideshow": null
   },
   "source": [
    "The model produced 5 somewhat well-defined topics that define infrastructure as: shelter, education, health, agriculture. Similar to $k$-means clustering, there are 2 topics definining shelter. "
   ]
  },
  {
   "cell_type": "markdown",
   "id": "68db0f5c",
   "metadata": {
    "slideshow": null
   },
   "source": [
    "Let's look the topics the LDA model found for a particular document and the proportion of the document associated with that topic.  "
   ]
  },
  {
   "cell_type": "code",
   "execution_count": 33,
   "id": "c2bba674",
   "metadata": {
    "slideshow": null
   },
   "outputs": [
    {
     "data": {
      "text/plain": [
       "[(0, 0.3328376),\n",
       " (1, 0.22998513),\n",
       " (2, 0.175693),\n",
       " (3, 0.14213863),\n",
       " (4, 0.119345635)]"
      ]
     },
     "execution_count": 33,
     "metadata": {},
     "output_type": "execute_result"
    }
   ],
   "source": [
    "lda_model.get_document_topics(corpus[0])"
   ]
  },
  {
   "cell_type": "markdown",
   "id": "4623a4dc",
   "metadata": {
    "slideshow": null
   },
   "source": [
    "Let's extract the dominant topic (and percentage) for each of the reviews in the data."
   ]
  },
  {
   "cell_type": "code",
   "execution_count": 34,
   "id": "267077db",
   "metadata": {
    "slideshow": null
   },
   "outputs": [],
   "source": [
    "def get_main_topic_df(model, bow, texts):\n",
    "    topic_list = []\n",
    "    percent_list = []\n",
    "    keyword_list = []\n",
    "    \n",
    "    for wc in bow:\n",
    "        topic, percent = sorted(model.get_document_topics(wc), key=lambda x: x[1], reverse=True)[0]\n",
    "        topic_list.append(topic)\n",
    "        percent_list.append(round(percent, 3))\n",
    "        keyword_list.append(' '.join(sorted([x[0] for x in model.show_topic(topic)])))\n",
    "\n",
    "    result_df = pd.concat([pd.Series(topic_list, name='Dominant_topic'), \n",
    "                           pd.Series(percent_list, name='Percent'), \n",
    "                           pd.Series(texts, name='Processed_text'), \n",
    "                           pd.Series(keyword_list, name='Keywords')], axis=1)\n",
    "\n",
    "    return result_df"
   ]
  },
  {
   "cell_type": "code",
   "execution_count": 35,
   "id": "da7a1f10",
   "metadata": {
    "slideshow": null
   },
   "outputs": [
    {
     "data": {
      "text/html": [
       "<div>\n",
       "<style scoped>\n",
       "    .dataframe tbody tr th:only-of-type {\n",
       "        vertical-align: middle;\n",
       "    }\n",
       "\n",
       "    .dataframe tbody tr th {\n",
       "        vertical-align: top;\n",
       "    }\n",
       "\n",
       "    .dataframe thead th {\n",
       "        text-align: right;\n",
       "    }\n",
       "</style>\n",
       "<table border=\"1\" class=\"dataframe\">\n",
       "  <thead>\n",
       "    <tr style=\"text-align: right;\">\n",
       "      <th></th>\n",
       "      <th>Dominant_topic</th>\n",
       "      <th>Percent</th>\n",
       "      <th>Processed_text</th>\n",
       "      <th>Keywords</th>\n",
       "    </tr>\n",
       "  </thead>\n",
       "  <tbody>\n",
       "    <tr>\n",
       "      <th>0</th>\n",
       "      <td>0</td>\n",
       "      <td>0.333</td>\n",
       "      <td>[]</td>\n",
       "      <td>apartment car church hospital house industrial...</td>\n",
       "    </tr>\n",
       "    <tr>\n",
       "      <th>1</th>\n",
       "      <td>0</td>\n",
       "      <td>0.333</td>\n",
       "      <td>[]</td>\n",
       "      <td>apartment car church hospital house industrial...</td>\n",
       "    </tr>\n",
       "    <tr>\n",
       "      <th>2</th>\n",
       "      <td>0</td>\n",
       "      <td>0.333</td>\n",
       "      <td>[]</td>\n",
       "      <td>apartment car church hospital house industrial...</td>\n",
       "    </tr>\n",
       "    <tr>\n",
       "      <th>3</th>\n",
       "      <td>0</td>\n",
       "      <td>0.333</td>\n",
       "      <td>[]</td>\n",
       "      <td>apartment car church hospital house industrial...</td>\n",
       "    </tr>\n",
       "    <tr>\n",
       "      <th>4</th>\n",
       "      <td>0</td>\n",
       "      <td>0.333</td>\n",
       "      <td>[]</td>\n",
       "      <td>apartment car church hospital house industrial...</td>\n",
       "    </tr>\n",
       "  </tbody>\n",
       "</table>\n",
       "</div>"
      ],
      "text/plain": [
       "   Dominant_topic  Percent Processed_text  \\\n",
       "0               0    0.333             []   \n",
       "1               0    0.333             []   \n",
       "2               0    0.333             []   \n",
       "3               0    0.333             []   \n",
       "4               0    0.333             []   \n",
       "\n",
       "                                            Keywords  \n",
       "0  apartment car church hospital house industrial...  \n",
       "1  apartment car church hospital house industrial...  \n",
       "2  apartment car church hospital house industrial...  \n",
       "3  apartment car church hospital house industrial...  \n",
       "4  apartment car church hospital house industrial...  "
      ]
     },
     "execution_count": 35,
     "metadata": {},
     "output_type": "execute_result"
    }
   ],
   "source": [
    "main_topic_df = get_main_topic_df(lda_model, corpus, processed_text)\n",
    "\n",
    "main_topic_df.head()"
   ]
  },
  {
   "cell_type": "code",
   "execution_count": 36,
   "id": "9af1e7f9",
   "metadata": {
    "slideshow": null
   },
   "outputs": [
    {
     "data": {
      "image/png": "[encoded data removed]",
      "text/plain": [
       "<Figure size 640x480 with 1 Axes>"
      ]
     },
     "metadata": {},
     "output_type": "display_data"
    }
   ],
   "source": [
    "grouped_topics = main_topic_df.groupby('Dominant_topic')\n",
    "grouped_topics.count()['Processed_text'].\\\n",
    "    plot.bar(rot=0).\\\n",
    "    set(title=f'Dominant Topic Frequency in the {len(df)} Notes',\n",
    "        ylabel='Topic frequency'); "
   ]
  },
  {
   "cell_type": "markdown",
   "id": "f1344fb0",
   "metadata": {
    "slideshow": null
   },
   "source": [
    "Similarly to $k$-means clustering, topic 0 has disproportionally high number of documents."
   ]
  },
  {
   "cell_type": "markdown",
   "id": "7ccaa404",
   "metadata": {
    "slideshow": null
   },
   "source": [
    "Let's look at the \"most representative\" sentence in the data for each topic."
   ]
  },
  {
   "cell_type": "code",
   "execution_count": 37,
   "id": "694a6b07",
   "metadata": {
    "slideshow": null
   },
   "outputs": [
    {
     "data": {
      "text/html": [
       "<div>\n",
       "<style scoped>\n",
       "    .dataframe tbody tr th:only-of-type {\n",
       "        vertical-align: middle;\n",
       "    }\n",
       "\n",
       "    .dataframe tbody tr th {\n",
       "        vertical-align: top;\n",
       "    }\n",
       "\n",
       "    .dataframe thead th {\n",
       "        text-align: right;\n",
       "    }\n",
       "</style>\n",
       "<table border=\"1\" class=\"dataframe\">\n",
       "  <thead>\n",
       "    <tr style=\"text-align: right;\">\n",
       "      <th></th>\n",
       "      <th>Dominant_topic</th>\n",
       "      <th>Percent</th>\n",
       "      <th>Processed_text</th>\n",
       "      <th>Keywords</th>\n",
       "    </tr>\n",
       "  </thead>\n",
       "  <tbody>\n",
       "    <tr>\n",
       "      <th>29194</th>\n",
       "      <td>0</td>\n",
       "      <td>0.867</td>\n",
       "      <td>[maternity, hospital, hospital, pregnant, hosp...</td>\n",
       "      <td>apartment car church hospital house industrial...</td>\n",
       "    </tr>\n",
       "    <tr>\n",
       "      <th>12519</th>\n",
       "      <td>1</td>\n",
       "      <td>0.904</td>\n",
       "      <td>[vehicle, voltage, power, line, maintenance, a...</td>\n",
       "      <td>critical gas grain line mall power station tru...</td>\n",
       "    </tr>\n",
       "    <tr>\n",
       "      <th>12360</th>\n",
       "      <td>2</td>\n",
       "      <td>0.725</td>\n",
       "      <td>[outpatient, clinic]</td>\n",
       "      <td>clinic corridor crop harvested kindergarten ma...</td>\n",
       "    </tr>\n",
       "    <tr>\n",
       "      <th>220</th>\n",
       "      <td>3</td>\n",
       "      <td>0.628</td>\n",
       "      <td>[food, store, moment, education, private, hous...</td>\n",
       "      <td>automobile care crop food harvested healthcare...</td>\n",
       "    </tr>\n",
       "  </tbody>\n",
       "</table>\n",
       "</div>"
      ],
      "text/plain": [
       "       Dominant_topic  Percent  \\\n",
       "29194               0    0.867   \n",
       "12519               1    0.904   \n",
       "12360               2    0.725   \n",
       "220                 3    0.628   \n",
       "\n",
       "                                          Processed_text  \\\n",
       "29194  [maternity, hospital, hospital, pregnant, hosp...   \n",
       "12519  [vehicle, voltage, power, line, maintenance, a...   \n",
       "12360                               [outpatient, clinic]   \n",
       "220    [food, store, moment, education, private, hous...   \n",
       "\n",
       "                                                Keywords  \n",
       "29194  apartment car church hospital house industrial...  \n",
       "12519  critical gas grain line mall power station tru...  \n",
       "12360  clinic corridor crop harvested kindergarten ma...  \n",
       "220    automobile care crop food harvested healthcare...  "
      ]
     },
     "execution_count": 37,
     "metadata": {},
     "output_type": "execute_result"
    }
   ],
   "source": [
    "representatives = pd.DataFrame()\n",
    "\n",
    "for k in grouped_topics.groups.keys():\n",
    "    representatives = pd.concat([ representatives, \n",
    "                                 grouped_topics.get_group(k).sort_values(['Percent'], ascending=False).head(1) ])\n",
    "    \n",
    "representatives"
   ]
  },
  {
   "cell_type": "markdown",
   "id": "9e5b72a3",
   "metadata": {
    "slideshow": null
   },
   "source": [
    "Let's examine the original text of the representative report for the first topic."
   ]
  },
  {
   "cell_type": "code",
   "execution_count": 38,
   "id": "c6609089",
   "metadata": {
    "slideshow": null
   },
   "outputs": [
    {
     "name": "stdout",
     "output_type": "stream",
     "text": [
      "Document: 29194  Dominant topic: 0\n",
      "\n",
      "On 9 March 2022, Russian air force conducted air strikes at the 2nd maternity hospital and at the children's hospital in Mariupol. Three people, including a child, were killed, 17 wounded. Another pregnant woman and her child died later in a hospital.\n"
     ]
    }
   ],
   "source": [
    "print(f'Document: {representatives.index[0]}  Dominant topic: {representatives.loc[representatives.index[0]][\"Dominant_topic\"]}\\n') \n",
    "                    \n",
    "print(texts[representatives.index[0]])"
   ]
  },
  {
   "cell_type": "code",
   "execution_count": 39,
   "id": "74452473",
   "metadata": {
    "slideshow": null
   },
   "outputs": [
    {
     "name": "stdout",
     "output_type": "stream",
     "text": [
      "Document: 12519  Dominant topic: 1\n",
      "\n",
      "On 21 September 2022, the vehicle of Kharkiv district high voltage power lines maintenance service ran over an anti-tank mine near Hrakove, Kharkiv region, while inspecting the power lines together with Emergency Service sappers. The head of Kharkiv district high voltage power lines maintenance service was killed, two others - injured.\n"
     ]
    }
   ],
   "source": [
    "print(f'Document: {representatives.index[1]}  Dominant topic: {representatives.loc[representatives.index[1]][\"Dominant_topic\"]}\\n')\n",
    "                        \n",
    "print(texts[representatives.index[1]])"
   ]
  },
  {
   "cell_type": "markdown",
   "id": "6267da95",
   "metadata": {
    "slideshow": null
   },
   "source": [
    "Let's build a histogram of word distributions per topic."
   ]
  },
  {
   "cell_type": "code",
   "execution_count": 40,
   "id": "e9360761",
   "metadata": {
    "slideshow": null
   },
   "outputs": [
    {
     "name": "stdout",
     "output_type": "stream",
     "text": [
      "Indices of top words: \n",
      "{0, 2, 3, 4, 5, 8, 10, 13, 14, 15, 17, 20, 21, 23, 24, 26, 33, 41, 45, 51, 52, 57, 62, 64, 65, 865, 866, 867, 868, 869, 870, 871, 872, 873, 874, 875}\n",
      "\n"
     ]
    }
   ],
   "source": [
    "lda_top_words_index = set()\n",
    "for i in range(lda_model.num_topics):\n",
    "    lda_top_words_index = lda_top_words_index.union([k for (k,v) in lda_model.get_topic_terms(i)])\n",
    "\n",
    "print(f'Indices of top words: \\n{lda_top_words_index}\\n')"
   ]
  },
  {
   "cell_type": "code",
   "execution_count": 41,
   "id": "634ad284",
   "metadata": {
    "slideshow": null
   },
   "outputs": [],
   "source": [
    "words_we_care_about = [{dictionary[tup[0]]: tup[1] for tup in lst if tup[0] in lda_top_words_index} \n",
    "                       for lst in corpus]"
   ]
  },
  {
   "cell_type": "code",
   "execution_count": 42,
   "id": "4d9a8b5e",
   "metadata": {
    "slideshow": null
   },
   "outputs": [],
   "source": [
    "lda_top_words_df = pd.DataFrame(words_we_care_about).fillna(0).astype(int).sort_index(axis=1)\n",
    "lda_top_words_df['Cluster'] = main_topic_df['Dominant_topic']"
   ]
  },
  {
   "cell_type": "code",
   "execution_count": 43,
   "id": "e85253d7",
   "metadata": {
    "scrolled": true,
    "slideshow": null
   },
   "outputs": [
    {
     "data": {
      "image/png": "[encoded data removed]",
      "text/plain": [
       "<Figure size 1500x500 with 1 Axes>"
      ]
     },
     "metadata": {},
     "output_type": "display_data"
    }
   ],
   "source": [
    "lda_top_words_df.groupby('Cluster').sum().transpose().\\\n",
    "         plot.bar(figsize=(15, 5), width=0.7).\\\n",
    "         set(ylabel='Word frequency', \n",
    "         title=f'Word Frequencies by Topic, Combining the Top {len(lda_top_words_index)} Words in Each Topic');"
   ]
  },
  {
   "cell_type": "markdown",
   "id": "a46337ec",
   "metadata": {
    "slideshow": null
   },
   "source": [
    "Let's look at the top words found using both $k$-means clustering and LDA. "
   ]
  },
  {
   "cell_type": "code",
   "execution_count": 44,
   "id": "532cfeb0",
   "metadata": {
    "slideshow": null
   },
   "outputs": [],
   "source": [
    "common_words = set(lda_top_words_df.columns[:-1]).intersection(set(word_df.columns[:-1]))"
   ]
  },
  {
   "cell_type": "code",
   "execution_count": 45,
   "id": "2dfaa522",
   "metadata": {
    "slideshow": null
   },
   "outputs": [
    {
     "name": "stdout",
     "output_type": "stream",
     "text": [
      "10\n",
      "['apartment', 'car', 'gas', 'hospital', 'house', 'kindergarten', 'line', 'power', 'residential', 'school']\n"
     ]
    }
   ],
   "source": [
    "print(len(common_words))\n",
    "print(sorted(list(common_words)))"
   ]
  },
  {
   "cell_type": "markdown",
   "id": "122e6f32",
   "metadata": {
    "slideshow": null
   },
   "source": [
    "To determine the correct number of topics, I measure the \"coherence\" of the topics.  Higher coherence scores correspond to \"better defined\" topics.  "
   ]
  },
  {
   "cell_type": "code",
   "execution_count": null,
   "id": "405ea8d3",
   "metadata": {
    "slideshow": null
   },
   "outputs": [],
   "source": [
    "cm = gensim.models.coherencemodel.CoherenceModel(model=lda_model,\n",
    "                                                 texts=processed_text,\n",
    "                                                 dictionary=dictionary)\n",
    "\n",
    "coherence_scores = [(num_topics, cm.get_coherence())]\n",
    "print('Coherence score for {} topics:  {}'.format(*coherence_scores[0]))"
   ]
  }
 ],
 "metadata": {
  "kernelspec": {
   "display_name": "Python3",
   "language": "python",
   "name": "python3"
  },
  "language_info": {
   "codemirror_mode": {
    "name": "ipython",
    "version": 3
   },
   "file_extension": ".py",
   "mimetype": "text/x-python",
   "name": "python",
   "nbconvert_exporter": "python",
   "pygments_lexer": "ipython3",
   "version": "3.10.8"
  },
  "nbclean": true
 },
 "nbformat": 4,
 "nbformat_minor": 5
}
